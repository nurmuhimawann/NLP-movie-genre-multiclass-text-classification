{
  "nbformat": 4,
  "nbformat_minor": 0,
  "metadata": {
    "colab": {
      "provenance": [],
      "include_colab_link": true
    },
    "kernelspec": {
      "name": "python3",
      "display_name": "Python 3"
    },
    "language_info": {
      "name": "python"
    },
    "accelerator": "GPU",
    "gpuClass": "standard"
  },
  "cells": [
    {
      "cell_type": "markdown",
      "metadata": {
        "id": "view-in-github",
        "colab_type": "text"
      },
      "source": [
        "<a href=\"https://colab.research.google.com/github/nurmuhimawann/NLP-movie-genre-multiclass-text-classification/blob/main/Submission_NLP_TensorFlow_Multiclass_Text_Classification.ipynb\" target=\"_parent\"><img src=\"https://colab.research.google.com/assets/colab-badge.svg\" alt=\"Open In Colab\"/></a>"
      ]
    },
    {
      "cell_type": "markdown",
      "source": [
        "# **Profile** <br>\n",
        "*Nama: Nur Muhammad Himawan* <br>\n",
        "*Domisili: Banyuwangi, Jawa Timur* <br>\n",
        "*E-mail: muhammad.himawan73@gmail.com* <br>\n",
        "*Path: Machine Learning & Front End Development* <br>\n",
        "*Progam: Studi Independen Batch 3 - Kampus Merdeka*"
      ],
      "metadata": {
        "id": "nJKBCBcP0VmP"
      }
    },
    {
      "cell_type": "markdown",
      "source": [
        "## **Proyek: Membuat Model NLP dengan TensorFlow**\n",
        "\n",
        "Selamat, Anda telah menyelesaikan modul Natural Language processing. Anda sudah mempelajari dasar-dasar machine learning dan bagaimana jaringan saraf bekerja pada NLP. Untuk bisa melanjutkan ke modul selanjutnya, Anda harus mengirimkan submission berupa proyek membuat model untuk klasifikasi teks. "
      ],
      "metadata": {
        "id": "co6p6F1PPYmL"
      }
    },
    {
      "cell_type": "markdown",
      "source": [
        "**Dataset Preparation**"
      ],
      "metadata": {
        "id": "6m2xo2qksDxQ"
      }
    },
    {
      "cell_type": "code",
      "source": [
        "# mount drive\n",
        "from google.colab import drive\n",
        "drive.mount('/content/drive')"
      ],
      "metadata": {
        "colab": {
          "base_uri": "https://localhost:8080/"
        },
        "id": "qppfUOFIRxWR",
        "outputId": "cf900cd8-0c68-4149-ed29-050af07dd8f8"
      },
      "execution_count": null,
      "outputs": [
        {
          "output_type": "stream",
          "name": "stdout",
          "text": [
            "Drive already mounted at /content/drive; to attempt to forcibly remount, call drive.mount(\"/content/drive\", force_remount=True).\n"
          ]
        }
      ]
    },
    {
      "cell_type": "code",
      "execution_count": null,
      "metadata": {
        "id": "PAZzjMS6nSpz",
        "colab": {
          "base_uri": "https://localhost:8080/"
        },
        "outputId": "9355757d-d23d-483b-cb3a-6ae5460f3808"
      },
      "outputs": [
        {
          "output_type": "stream",
          "name": "stdout",
          "text": [
            "mkdir: cannot create directory ‘/root/.kaggle’: File exists\n",
            "kaggle.json\n"
          ]
        }
      ],
      "source": [
        "# API my kaggle\n",
        "! mkdir ~/.kaggle\n",
        "! cp '/content/drive/MyDrive/Colab Notebooks/Kaggle API/kaggle.json' ~/.kaggle/kaggle.json\n",
        "! chmod 600 ~/.kaggle/kaggle.json\n",
        "! ls ~/.kaggle"
      ]
    },
    {
      "cell_type": "code",
      "source": [
        "# source dataset -> https://www.kaggle.com/datasets/lykin22/movie-genre-data\n",
        "! kaggle datasets download lykin22/movie-genre-data"
      ],
      "metadata": {
        "colab": {
          "base_uri": "https://localhost:8080/"
        },
        "id": "iAlAT0qW0lXU",
        "outputId": "a9bd14e8-5a37-4c70-f703-265eb0afefce"
      },
      "execution_count": null,
      "outputs": [
        {
          "output_type": "stream",
          "name": "stdout",
          "text": [
            "movie-genre-data.zip: Skipping, found more recently modified local copy (use --force to force download)\n"
          ]
        }
      ]
    },
    {
      "cell_type": "code",
      "source": [
        "# unzip\n",
        "! unzip movie-genre-data.zip -d /content/data/"
      ],
      "metadata": {
        "colab": {
          "base_uri": "https://localhost:8080/"
        },
        "id": "-r2WIrnr0nkz",
        "outputId": "81acb20e-dbdb-4746-ce57-ebb2a8437e42"
      },
      "execution_count": null,
      "outputs": [
        {
          "output_type": "stream",
          "name": "stdout",
          "text": [
            "Archive:  movie-genre-data.zip\n",
            "replace /content/data/kaggle_movie_test.csv? [y]es, [n]o, [A]ll, [N]one, [r]ename: A\n",
            "  inflating: /content/data/kaggle_movie_test.csv  \n",
            "  inflating: /content/data/kaggle_movie_train.csv  \n",
            "  inflating: /content/data/movie_metadata/movie_metadata.tsv  \n",
            "  inflating: /content/data/plot_summaries/plot_summaries.tsv  \n"
          ]
        }
      ]
    },
    {
      "cell_type": "markdown",
      "source": [
        "**Load Dataset**\n",
        "\n",
        "Large Movie Review Dataset: Straight from the boon of the Stanford AI Laboratory, this movie review dataset features 25,000 reviews of highly-polarizing films along with another 25,000 reviews specifically designed for training. "
      ],
      "metadata": {
        "id": "Y9aE5XP76edF"
      }
    },
    {
      "cell_type": "code",
      "source": [
        "# read_csv\n",
        "import pandas as pd\n",
        "df = pd.read_csv('/content/data/kaggle_movie_train.csv')\n",
        "df"
      ],
      "metadata": {
        "colab": {
          "base_uri": "https://localhost:8080/",
          "height": 424
        },
        "id": "K7xdXCX20puT",
        "outputId": "bd0863c1-5736-4c3e-f9e4-d2ce13bf514e"
      },
      "execution_count": null,
      "outputs": [
        {
          "output_type": "execute_result",
          "data": {
            "text/plain": [
              "          id                                               text     genre\n",
              "0          0  eady dead, maybe even wishing he was. INT. 2ND...  thriller\n",
              "1          2  t, summa cum laude and all. And I'm about to l...    comedy\n",
              "2          3   up Come, I have a surprise.... She takes him ...     drama\n",
              "3          4  ded by the two detectives. INT. JEFF'S APARTME...  thriller\n",
              "4          5  nd dismounts, just as the other children reach...     drama\n",
              "...      ...                                                ...       ...\n",
              "22574  28161  n in the world to decide what I'm going to do ...     drama\n",
              "22575  28162  shards. BOJO LAZ! Laz pushes Deke back through...     drama\n",
              "22576  28163  OTTIE You've got a thing about Ernie's, haven'...  thriller\n",
              "22577  28165  ....with marked skill and dexterity . LANA wry...    action\n",
              "22578  28166  rd walks off down the hallway, leaving his pos...    comedy\n",
              "\n",
              "[22579 rows x 3 columns]"
            ],
            "text/html": [
              "\n",
              "  <div id=\"df-23cd59a0-1698-4fbb-b73e-e14ae1736266\">\n",
              "    <div class=\"colab-df-container\">\n",
              "      <div>\n",
              "<style scoped>\n",
              "    .dataframe tbody tr th:only-of-type {\n",
              "        vertical-align: middle;\n",
              "    }\n",
              "\n",
              "    .dataframe tbody tr th {\n",
              "        vertical-align: top;\n",
              "    }\n",
              "\n",
              "    .dataframe thead th {\n",
              "        text-align: right;\n",
              "    }\n",
              "</style>\n",
              "<table border=\"1\" class=\"dataframe\">\n",
              "  <thead>\n",
              "    <tr style=\"text-align: right;\">\n",
              "      <th></th>\n",
              "      <th>id</th>\n",
              "      <th>text</th>\n",
              "      <th>genre</th>\n",
              "    </tr>\n",
              "  </thead>\n",
              "  <tbody>\n",
              "    <tr>\n",
              "      <th>0</th>\n",
              "      <td>0</td>\n",
              "      <td>eady dead, maybe even wishing he was. INT. 2ND...</td>\n",
              "      <td>thriller</td>\n",
              "    </tr>\n",
              "    <tr>\n",
              "      <th>1</th>\n",
              "      <td>2</td>\n",
              "      <td>t, summa cum laude and all. And I'm about to l...</td>\n",
              "      <td>comedy</td>\n",
              "    </tr>\n",
              "    <tr>\n",
              "      <th>2</th>\n",
              "      <td>3</td>\n",
              "      <td>up Come, I have a surprise.... She takes him ...</td>\n",
              "      <td>drama</td>\n",
              "    </tr>\n",
              "    <tr>\n",
              "      <th>3</th>\n",
              "      <td>4</td>\n",
              "      <td>ded by the two detectives. INT. JEFF'S APARTME...</td>\n",
              "      <td>thriller</td>\n",
              "    </tr>\n",
              "    <tr>\n",
              "      <th>4</th>\n",
              "      <td>5</td>\n",
              "      <td>nd dismounts, just as the other children reach...</td>\n",
              "      <td>drama</td>\n",
              "    </tr>\n",
              "    <tr>\n",
              "      <th>...</th>\n",
              "      <td>...</td>\n",
              "      <td>...</td>\n",
              "      <td>...</td>\n",
              "    </tr>\n",
              "    <tr>\n",
              "      <th>22574</th>\n",
              "      <td>28161</td>\n",
              "      <td>n in the world to decide what I'm going to do ...</td>\n",
              "      <td>drama</td>\n",
              "    </tr>\n",
              "    <tr>\n",
              "      <th>22575</th>\n",
              "      <td>28162</td>\n",
              "      <td>shards. BOJO LAZ! Laz pushes Deke back through...</td>\n",
              "      <td>drama</td>\n",
              "    </tr>\n",
              "    <tr>\n",
              "      <th>22576</th>\n",
              "      <td>28163</td>\n",
              "      <td>OTTIE You've got a thing about Ernie's, haven'...</td>\n",
              "      <td>thriller</td>\n",
              "    </tr>\n",
              "    <tr>\n",
              "      <th>22577</th>\n",
              "      <td>28165</td>\n",
              "      <td>....with marked skill and dexterity . LANA wry...</td>\n",
              "      <td>action</td>\n",
              "    </tr>\n",
              "    <tr>\n",
              "      <th>22578</th>\n",
              "      <td>28166</td>\n",
              "      <td>rd walks off down the hallway, leaving his pos...</td>\n",
              "      <td>comedy</td>\n",
              "    </tr>\n",
              "  </tbody>\n",
              "</table>\n",
              "<p>22579 rows × 3 columns</p>\n",
              "</div>\n",
              "      <button class=\"colab-df-convert\" onclick=\"convertToInteractive('df-23cd59a0-1698-4fbb-b73e-e14ae1736266')\"\n",
              "              title=\"Convert this dataframe to an interactive table.\"\n",
              "              style=\"display:none;\">\n",
              "        \n",
              "  <svg xmlns=\"http://www.w3.org/2000/svg\" height=\"24px\"viewBox=\"0 0 24 24\"\n",
              "       width=\"24px\">\n",
              "    <path d=\"M0 0h24v24H0V0z\" fill=\"none\"/>\n",
              "    <path d=\"M18.56 5.44l.94 2.06.94-2.06 2.06-.94-2.06-.94-.94-2.06-.94 2.06-2.06.94zm-11 1L8.5 8.5l.94-2.06 2.06-.94-2.06-.94L8.5 2.5l-.94 2.06-2.06.94zm10 10l.94 2.06.94-2.06 2.06-.94-2.06-.94-.94-2.06-.94 2.06-2.06.94z\"/><path d=\"M17.41 7.96l-1.37-1.37c-.4-.4-.92-.59-1.43-.59-.52 0-1.04.2-1.43.59L10.3 9.45l-7.72 7.72c-.78.78-.78 2.05 0 2.83L4 21.41c.39.39.9.59 1.41.59.51 0 1.02-.2 1.41-.59l7.78-7.78 2.81-2.81c.8-.78.8-2.07 0-2.86zM5.41 20L4 18.59l7.72-7.72 1.47 1.35L5.41 20z\"/>\n",
              "  </svg>\n",
              "      </button>\n",
              "      \n",
              "  <style>\n",
              "    .colab-df-container {\n",
              "      display:flex;\n",
              "      flex-wrap:wrap;\n",
              "      gap: 12px;\n",
              "    }\n",
              "\n",
              "    .colab-df-convert {\n",
              "      background-color: #E8F0FE;\n",
              "      border: none;\n",
              "      border-radius: 50%;\n",
              "      cursor: pointer;\n",
              "      display: none;\n",
              "      fill: #1967D2;\n",
              "      height: 32px;\n",
              "      padding: 0 0 0 0;\n",
              "      width: 32px;\n",
              "    }\n",
              "\n",
              "    .colab-df-convert:hover {\n",
              "      background-color: #E2EBFA;\n",
              "      box-shadow: 0px 1px 2px rgba(60, 64, 67, 0.3), 0px 1px 3px 1px rgba(60, 64, 67, 0.15);\n",
              "      fill: #174EA6;\n",
              "    }\n",
              "\n",
              "    [theme=dark] .colab-df-convert {\n",
              "      background-color: #3B4455;\n",
              "      fill: #D2E3FC;\n",
              "    }\n",
              "\n",
              "    [theme=dark] .colab-df-convert:hover {\n",
              "      background-color: #434B5C;\n",
              "      box-shadow: 0px 1px 3px 1px rgba(0, 0, 0, 0.15);\n",
              "      filter: drop-shadow(0px 1px 2px rgba(0, 0, 0, 0.3));\n",
              "      fill: #FFFFFF;\n",
              "    }\n",
              "  </style>\n",
              "\n",
              "      <script>\n",
              "        const buttonEl =\n",
              "          document.querySelector('#df-23cd59a0-1698-4fbb-b73e-e14ae1736266 button.colab-df-convert');\n",
              "        buttonEl.style.display =\n",
              "          google.colab.kernel.accessAllowed ? 'block' : 'none';\n",
              "\n",
              "        async function convertToInteractive(key) {\n",
              "          const element = document.querySelector('#df-23cd59a0-1698-4fbb-b73e-e14ae1736266');\n",
              "          const dataTable =\n",
              "            await google.colab.kernel.invokeFunction('convertToInteractive',\n",
              "                                                     [key], {});\n",
              "          if (!dataTable) return;\n",
              "\n",
              "          const docLinkHtml = 'Like what you see? Visit the ' +\n",
              "            '<a target=\"_blank\" href=https://colab.research.google.com/notebooks/data_table.ipynb>data table notebook</a>'\n",
              "            + ' to learn more about interactive tables.';\n",
              "          element.innerHTML = '';\n",
              "          dataTable['output_type'] = 'display_data';\n",
              "          await google.colab.output.renderOutput(dataTable, element);\n",
              "          const docLink = document.createElement('div');\n",
              "          docLink.innerHTML = docLinkHtml;\n",
              "          element.appendChild(docLink);\n",
              "        }\n",
              "      </script>\n",
              "    </div>\n",
              "  </div>\n",
              "  "
            ]
          },
          "metadata": {},
          "execution_count": 5
        }
      ]
    },
    {
      "cell_type": "code",
      "source": [
        "# data info\n",
        "df.info()"
      ],
      "metadata": {
        "colab": {
          "base_uri": "https://localhost:8080/"
        },
        "id": "rE5qbJ71I7b3",
        "outputId": "3d181cbc-1702-4872-9bc6-12a1d763631b"
      },
      "execution_count": null,
      "outputs": [
        {
          "output_type": "stream",
          "name": "stdout",
          "text": [
            "<class 'pandas.core.frame.DataFrame'>\n",
            "RangeIndex: 22579 entries, 0 to 22578\n",
            "Data columns (total 3 columns):\n",
            " #   Column  Non-Null Count  Dtype \n",
            "---  ------  --------------  ----- \n",
            " 0   id      22579 non-null  int64 \n",
            " 1   text    22579 non-null  object\n",
            " 2   genre   22579 non-null  object\n",
            "dtypes: int64(1), object(2)\n",
            "memory usage: 529.3+ KB\n"
          ]
        }
      ]
    },
    {
      "cell_type": "markdown",
      "source": [
        "**Data Preprocessing**"
      ],
      "metadata": {
        "id": "z4WpqkpIrw9Z"
      }
    },
    {
      "cell_type": "code",
      "source": [
        "# drop unused columns\n",
        "df_new = df.drop(columns=['id'])\n",
        "df_new"
      ],
      "metadata": {
        "id": "d7VdzVPqJfOb",
        "colab": {
          "base_uri": "https://localhost:8080/",
          "height": 424
        },
        "outputId": "3403256c-6c29-4d10-ded7-a41b418dea81"
      },
      "execution_count": null,
      "outputs": [
        {
          "output_type": "execute_result",
          "data": {
            "text/plain": [
              "                                                    text     genre\n",
              "0      eady dead, maybe even wishing he was. INT. 2ND...  thriller\n",
              "1      t, summa cum laude and all. And I'm about to l...    comedy\n",
              "2       up Come, I have a surprise.... She takes him ...     drama\n",
              "3      ded by the two detectives. INT. JEFF'S APARTME...  thriller\n",
              "4      nd dismounts, just as the other children reach...     drama\n",
              "...                                                  ...       ...\n",
              "22574  n in the world to decide what I'm going to do ...     drama\n",
              "22575  shards. BOJO LAZ! Laz pushes Deke back through...     drama\n",
              "22576  OTTIE You've got a thing about Ernie's, haven'...  thriller\n",
              "22577  ....with marked skill and dexterity . LANA wry...    action\n",
              "22578  rd walks off down the hallway, leaving his pos...    comedy\n",
              "\n",
              "[22579 rows x 2 columns]"
            ],
            "text/html": [
              "\n",
              "  <div id=\"df-d5020fcf-0552-4bd8-937e-e7b54a77636c\">\n",
              "    <div class=\"colab-df-container\">\n",
              "      <div>\n",
              "<style scoped>\n",
              "    .dataframe tbody tr th:only-of-type {\n",
              "        vertical-align: middle;\n",
              "    }\n",
              "\n",
              "    .dataframe tbody tr th {\n",
              "        vertical-align: top;\n",
              "    }\n",
              "\n",
              "    .dataframe thead th {\n",
              "        text-align: right;\n",
              "    }\n",
              "</style>\n",
              "<table border=\"1\" class=\"dataframe\">\n",
              "  <thead>\n",
              "    <tr style=\"text-align: right;\">\n",
              "      <th></th>\n",
              "      <th>text</th>\n",
              "      <th>genre</th>\n",
              "    </tr>\n",
              "  </thead>\n",
              "  <tbody>\n",
              "    <tr>\n",
              "      <th>0</th>\n",
              "      <td>eady dead, maybe even wishing he was. INT. 2ND...</td>\n",
              "      <td>thriller</td>\n",
              "    </tr>\n",
              "    <tr>\n",
              "      <th>1</th>\n",
              "      <td>t, summa cum laude and all. And I'm about to l...</td>\n",
              "      <td>comedy</td>\n",
              "    </tr>\n",
              "    <tr>\n",
              "      <th>2</th>\n",
              "      <td>up Come, I have a surprise.... She takes him ...</td>\n",
              "      <td>drama</td>\n",
              "    </tr>\n",
              "    <tr>\n",
              "      <th>3</th>\n",
              "      <td>ded by the two detectives. INT. JEFF'S APARTME...</td>\n",
              "      <td>thriller</td>\n",
              "    </tr>\n",
              "    <tr>\n",
              "      <th>4</th>\n",
              "      <td>nd dismounts, just as the other children reach...</td>\n",
              "      <td>drama</td>\n",
              "    </tr>\n",
              "    <tr>\n",
              "      <th>...</th>\n",
              "      <td>...</td>\n",
              "      <td>...</td>\n",
              "    </tr>\n",
              "    <tr>\n",
              "      <th>22574</th>\n",
              "      <td>n in the world to decide what I'm going to do ...</td>\n",
              "      <td>drama</td>\n",
              "    </tr>\n",
              "    <tr>\n",
              "      <th>22575</th>\n",
              "      <td>shards. BOJO LAZ! Laz pushes Deke back through...</td>\n",
              "      <td>drama</td>\n",
              "    </tr>\n",
              "    <tr>\n",
              "      <th>22576</th>\n",
              "      <td>OTTIE You've got a thing about Ernie's, haven'...</td>\n",
              "      <td>thriller</td>\n",
              "    </tr>\n",
              "    <tr>\n",
              "      <th>22577</th>\n",
              "      <td>....with marked skill and dexterity . LANA wry...</td>\n",
              "      <td>action</td>\n",
              "    </tr>\n",
              "    <tr>\n",
              "      <th>22578</th>\n",
              "      <td>rd walks off down the hallway, leaving his pos...</td>\n",
              "      <td>comedy</td>\n",
              "    </tr>\n",
              "  </tbody>\n",
              "</table>\n",
              "<p>22579 rows × 2 columns</p>\n",
              "</div>\n",
              "      <button class=\"colab-df-convert\" onclick=\"convertToInteractive('df-d5020fcf-0552-4bd8-937e-e7b54a77636c')\"\n",
              "              title=\"Convert this dataframe to an interactive table.\"\n",
              "              style=\"display:none;\">\n",
              "        \n",
              "  <svg xmlns=\"http://www.w3.org/2000/svg\" height=\"24px\"viewBox=\"0 0 24 24\"\n",
              "       width=\"24px\">\n",
              "    <path d=\"M0 0h24v24H0V0z\" fill=\"none\"/>\n",
              "    <path d=\"M18.56 5.44l.94 2.06.94-2.06 2.06-.94-2.06-.94-.94-2.06-.94 2.06-2.06.94zm-11 1L8.5 8.5l.94-2.06 2.06-.94-2.06-.94L8.5 2.5l-.94 2.06-2.06.94zm10 10l.94 2.06.94-2.06 2.06-.94-2.06-.94-.94-2.06-.94 2.06-2.06.94z\"/><path d=\"M17.41 7.96l-1.37-1.37c-.4-.4-.92-.59-1.43-.59-.52 0-1.04.2-1.43.59L10.3 9.45l-7.72 7.72c-.78.78-.78 2.05 0 2.83L4 21.41c.39.39.9.59 1.41.59.51 0 1.02-.2 1.41-.59l7.78-7.78 2.81-2.81c.8-.78.8-2.07 0-2.86zM5.41 20L4 18.59l7.72-7.72 1.47 1.35L5.41 20z\"/>\n",
              "  </svg>\n",
              "      </button>\n",
              "      \n",
              "  <style>\n",
              "    .colab-df-container {\n",
              "      display:flex;\n",
              "      flex-wrap:wrap;\n",
              "      gap: 12px;\n",
              "    }\n",
              "\n",
              "    .colab-df-convert {\n",
              "      background-color: #E8F0FE;\n",
              "      border: none;\n",
              "      border-radius: 50%;\n",
              "      cursor: pointer;\n",
              "      display: none;\n",
              "      fill: #1967D2;\n",
              "      height: 32px;\n",
              "      padding: 0 0 0 0;\n",
              "      width: 32px;\n",
              "    }\n",
              "\n",
              "    .colab-df-convert:hover {\n",
              "      background-color: #E2EBFA;\n",
              "      box-shadow: 0px 1px 2px rgba(60, 64, 67, 0.3), 0px 1px 3px 1px rgba(60, 64, 67, 0.15);\n",
              "      fill: #174EA6;\n",
              "    }\n",
              "\n",
              "    [theme=dark] .colab-df-convert {\n",
              "      background-color: #3B4455;\n",
              "      fill: #D2E3FC;\n",
              "    }\n",
              "\n",
              "    [theme=dark] .colab-df-convert:hover {\n",
              "      background-color: #434B5C;\n",
              "      box-shadow: 0px 1px 3px 1px rgba(0, 0, 0, 0.15);\n",
              "      filter: drop-shadow(0px 1px 2px rgba(0, 0, 0, 0.3));\n",
              "      fill: #FFFFFF;\n",
              "    }\n",
              "  </style>\n",
              "\n",
              "      <script>\n",
              "        const buttonEl =\n",
              "          document.querySelector('#df-d5020fcf-0552-4bd8-937e-e7b54a77636c button.colab-df-convert');\n",
              "        buttonEl.style.display =\n",
              "          google.colab.kernel.accessAllowed ? 'block' : 'none';\n",
              "\n",
              "        async function convertToInteractive(key) {\n",
              "          const element = document.querySelector('#df-d5020fcf-0552-4bd8-937e-e7b54a77636c');\n",
              "          const dataTable =\n",
              "            await google.colab.kernel.invokeFunction('convertToInteractive',\n",
              "                                                     [key], {});\n",
              "          if (!dataTable) return;\n",
              "\n",
              "          const docLinkHtml = 'Like what you see? Visit the ' +\n",
              "            '<a target=\"_blank\" href=https://colab.research.google.com/notebooks/data_table.ipynb>data table notebook</a>'\n",
              "            + ' to learn more about interactive tables.';\n",
              "          element.innerHTML = '';\n",
              "          dataTable['output_type'] = 'display_data';\n",
              "          await google.colab.output.renderOutput(dataTable, element);\n",
              "          const docLink = document.createElement('div');\n",
              "          docLink.innerHTML = docLinkHtml;\n",
              "          element.appendChild(docLink);\n",
              "        }\n",
              "      </script>\n",
              "    </div>\n",
              "  </div>\n",
              "  "
            ]
          },
          "metadata": {},
          "execution_count": 7
        }
      ]
    },
    {
      "cell_type": "code",
      "source": [
        "# check frequency distribution\n",
        "df_new['genre'].value_counts()"
      ],
      "metadata": {
        "colab": {
          "base_uri": "https://localhost:8080/"
        },
        "id": "2n0GUzi7OsOq",
        "outputId": "3a599745-b210-4069-8c3c-54bb9408faca"
      },
      "execution_count": null,
      "outputs": [
        {
          "output_type": "execute_result",
          "data": {
            "text/plain": [
              "drama        8873\n",
              "thriller     6824\n",
              "comedy       2941\n",
              "action       2392\n",
              "sci-fi        613\n",
              "horror        456\n",
              "other         270\n",
              "adventure     147\n",
              "romance        63\n",
              "Name: genre, dtype: int64"
            ]
          },
          "metadata": {},
          "execution_count": 8
        }
      ]
    },
    {
      "cell_type": "markdown",
      "source": [
        "use top 5 feature drama, thriller, comedy, action and sci-fi"
      ],
      "metadata": {
        "id": "gH41jDy0msSF"
      }
    },
    {
      "cell_type": "code",
      "source": [
        "# slice use .loc\n",
        "columns = ['drama', 'thriller', 'comedy', 'action', 'sci-fi']\n",
        "df_new = df_new.loc[df_new['genre'].isin(columns)]\n",
        "df_new"
      ],
      "metadata": {
        "colab": {
          "base_uri": "https://localhost:8080/",
          "height": 424
        },
        "id": "thFCZiZNv_UD",
        "outputId": "0b0c3034-33b2-4515-e105-102b4c9c1c73"
      },
      "execution_count": null,
      "outputs": [
        {
          "output_type": "execute_result",
          "data": {
            "text/plain": [
              "                                                    text     genre\n",
              "0      eady dead, maybe even wishing he was. INT. 2ND...  thriller\n",
              "1      t, summa cum laude and all. And I'm about to l...    comedy\n",
              "2       up Come, I have a surprise.... She takes him ...     drama\n",
              "3      ded by the two detectives. INT. JEFF'S APARTME...  thriller\n",
              "4      nd dismounts, just as the other children reach...     drama\n",
              "...                                                  ...       ...\n",
              "22574  n in the world to decide what I'm going to do ...     drama\n",
              "22575  shards. BOJO LAZ! Laz pushes Deke back through...     drama\n",
              "22576  OTTIE You've got a thing about Ernie's, haven'...  thriller\n",
              "22577  ....with marked skill and dexterity . LANA wry...    action\n",
              "22578  rd walks off down the hallway, leaving his pos...    comedy\n",
              "\n",
              "[21643 rows x 2 columns]"
            ],
            "text/html": [
              "\n",
              "  <div id=\"df-c38c1184-5a46-41b5-8282-4b77cc7a197b\">\n",
              "    <div class=\"colab-df-container\">\n",
              "      <div>\n",
              "<style scoped>\n",
              "    .dataframe tbody tr th:only-of-type {\n",
              "        vertical-align: middle;\n",
              "    }\n",
              "\n",
              "    .dataframe tbody tr th {\n",
              "        vertical-align: top;\n",
              "    }\n",
              "\n",
              "    .dataframe thead th {\n",
              "        text-align: right;\n",
              "    }\n",
              "</style>\n",
              "<table border=\"1\" class=\"dataframe\">\n",
              "  <thead>\n",
              "    <tr style=\"text-align: right;\">\n",
              "      <th></th>\n",
              "      <th>text</th>\n",
              "      <th>genre</th>\n",
              "    </tr>\n",
              "  </thead>\n",
              "  <tbody>\n",
              "    <tr>\n",
              "      <th>0</th>\n",
              "      <td>eady dead, maybe even wishing he was. INT. 2ND...</td>\n",
              "      <td>thriller</td>\n",
              "    </tr>\n",
              "    <tr>\n",
              "      <th>1</th>\n",
              "      <td>t, summa cum laude and all. And I'm about to l...</td>\n",
              "      <td>comedy</td>\n",
              "    </tr>\n",
              "    <tr>\n",
              "      <th>2</th>\n",
              "      <td>up Come, I have a surprise.... She takes him ...</td>\n",
              "      <td>drama</td>\n",
              "    </tr>\n",
              "    <tr>\n",
              "      <th>3</th>\n",
              "      <td>ded by the two detectives. INT. JEFF'S APARTME...</td>\n",
              "      <td>thriller</td>\n",
              "    </tr>\n",
              "    <tr>\n",
              "      <th>4</th>\n",
              "      <td>nd dismounts, just as the other children reach...</td>\n",
              "      <td>drama</td>\n",
              "    </tr>\n",
              "    <tr>\n",
              "      <th>...</th>\n",
              "      <td>...</td>\n",
              "      <td>...</td>\n",
              "    </tr>\n",
              "    <tr>\n",
              "      <th>22574</th>\n",
              "      <td>n in the world to decide what I'm going to do ...</td>\n",
              "      <td>drama</td>\n",
              "    </tr>\n",
              "    <tr>\n",
              "      <th>22575</th>\n",
              "      <td>shards. BOJO LAZ! Laz pushes Deke back through...</td>\n",
              "      <td>drama</td>\n",
              "    </tr>\n",
              "    <tr>\n",
              "      <th>22576</th>\n",
              "      <td>OTTIE You've got a thing about Ernie's, haven'...</td>\n",
              "      <td>thriller</td>\n",
              "    </tr>\n",
              "    <tr>\n",
              "      <th>22577</th>\n",
              "      <td>....with marked skill and dexterity . LANA wry...</td>\n",
              "      <td>action</td>\n",
              "    </tr>\n",
              "    <tr>\n",
              "      <th>22578</th>\n",
              "      <td>rd walks off down the hallway, leaving his pos...</td>\n",
              "      <td>comedy</td>\n",
              "    </tr>\n",
              "  </tbody>\n",
              "</table>\n",
              "<p>21643 rows × 2 columns</p>\n",
              "</div>\n",
              "      <button class=\"colab-df-convert\" onclick=\"convertToInteractive('df-c38c1184-5a46-41b5-8282-4b77cc7a197b')\"\n",
              "              title=\"Convert this dataframe to an interactive table.\"\n",
              "              style=\"display:none;\">\n",
              "        \n",
              "  <svg xmlns=\"http://www.w3.org/2000/svg\" height=\"24px\"viewBox=\"0 0 24 24\"\n",
              "       width=\"24px\">\n",
              "    <path d=\"M0 0h24v24H0V0z\" fill=\"none\"/>\n",
              "    <path d=\"M18.56 5.44l.94 2.06.94-2.06 2.06-.94-2.06-.94-.94-2.06-.94 2.06-2.06.94zm-11 1L8.5 8.5l.94-2.06 2.06-.94-2.06-.94L8.5 2.5l-.94 2.06-2.06.94zm10 10l.94 2.06.94-2.06 2.06-.94-2.06-.94-.94-2.06-.94 2.06-2.06.94z\"/><path d=\"M17.41 7.96l-1.37-1.37c-.4-.4-.92-.59-1.43-.59-.52 0-1.04.2-1.43.59L10.3 9.45l-7.72 7.72c-.78.78-.78 2.05 0 2.83L4 21.41c.39.39.9.59 1.41.59.51 0 1.02-.2 1.41-.59l7.78-7.78 2.81-2.81c.8-.78.8-2.07 0-2.86zM5.41 20L4 18.59l7.72-7.72 1.47 1.35L5.41 20z\"/>\n",
              "  </svg>\n",
              "      </button>\n",
              "      \n",
              "  <style>\n",
              "    .colab-df-container {\n",
              "      display:flex;\n",
              "      flex-wrap:wrap;\n",
              "      gap: 12px;\n",
              "    }\n",
              "\n",
              "    .colab-df-convert {\n",
              "      background-color: #E8F0FE;\n",
              "      border: none;\n",
              "      border-radius: 50%;\n",
              "      cursor: pointer;\n",
              "      display: none;\n",
              "      fill: #1967D2;\n",
              "      height: 32px;\n",
              "      padding: 0 0 0 0;\n",
              "      width: 32px;\n",
              "    }\n",
              "\n",
              "    .colab-df-convert:hover {\n",
              "      background-color: #E2EBFA;\n",
              "      box-shadow: 0px 1px 2px rgba(60, 64, 67, 0.3), 0px 1px 3px 1px rgba(60, 64, 67, 0.15);\n",
              "      fill: #174EA6;\n",
              "    }\n",
              "\n",
              "    [theme=dark] .colab-df-convert {\n",
              "      background-color: #3B4455;\n",
              "      fill: #D2E3FC;\n",
              "    }\n",
              "\n",
              "    [theme=dark] .colab-df-convert:hover {\n",
              "      background-color: #434B5C;\n",
              "      box-shadow: 0px 1px 3px 1px rgba(0, 0, 0, 0.15);\n",
              "      filter: drop-shadow(0px 1px 2px rgba(0, 0, 0, 0.3));\n",
              "      fill: #FFFFFF;\n",
              "    }\n",
              "  </style>\n",
              "\n",
              "      <script>\n",
              "        const buttonEl =\n",
              "          document.querySelector('#df-c38c1184-5a46-41b5-8282-4b77cc7a197b button.colab-df-convert');\n",
              "        buttonEl.style.display =\n",
              "          google.colab.kernel.accessAllowed ? 'block' : 'none';\n",
              "\n",
              "        async function convertToInteractive(key) {\n",
              "          const element = document.querySelector('#df-c38c1184-5a46-41b5-8282-4b77cc7a197b');\n",
              "          const dataTable =\n",
              "            await google.colab.kernel.invokeFunction('convertToInteractive',\n",
              "                                                     [key], {});\n",
              "          if (!dataTable) return;\n",
              "\n",
              "          const docLinkHtml = 'Like what you see? Visit the ' +\n",
              "            '<a target=\"_blank\" href=https://colab.research.google.com/notebooks/data_table.ipynb>data table notebook</a>'\n",
              "            + ' to learn more about interactive tables.';\n",
              "          element.innerHTML = '';\n",
              "          dataTable['output_type'] = 'display_data';\n",
              "          await google.colab.output.renderOutput(dataTable, element);\n",
              "          const docLink = document.createElement('div');\n",
              "          docLink.innerHTML = docLinkHtml;\n",
              "          element.appendChild(docLink);\n",
              "        }\n",
              "      </script>\n",
              "    </div>\n",
              "  </div>\n",
              "  "
            ]
          },
          "metadata": {},
          "execution_count": 9
        }
      ]
    },
    {
      "cell_type": "code",
      "source": [
        "# check frequency distribution\n",
        "df_new['genre'].value_counts()"
      ],
      "metadata": {
        "colab": {
          "base_uri": "https://localhost:8080/"
        },
        "id": "j6FekuRgocBq",
        "outputId": "6e1ce43d-4fc4-447f-e141-cdb452b6328f"
      },
      "execution_count": null,
      "outputs": [
        {
          "output_type": "execute_result",
          "data": {
            "text/plain": [
              "drama       8873\n",
              "thriller    6824\n",
              "comedy      2941\n",
              "action      2392\n",
              "sci-fi       613\n",
              "Name: genre, dtype: int64"
            ]
          },
          "metadata": {},
          "execution_count": 10
        }
      ]
    },
    {
      "cell_type": "markdown",
      "source": [
        "**One-Hot Encoding**"
      ],
      "metadata": {
        "id": "JApfLavESfIW"
      }
    },
    {
      "cell_type": "code",
      "source": [
        "# one-hot encoding\n",
        "category = pd.get_dummies(df_new['genre'])\n",
        "df_encode = pd.concat([df_new, category], axis=1)\n",
        "df_encode = df_encode.drop(columns='genre')\n",
        "df_encode"
      ],
      "metadata": {
        "colab": {
          "base_uri": "https://localhost:8080/",
          "height": 424
        },
        "id": "CeSUnrztSet9",
        "outputId": "3e0e80b3-9fcc-4de7-c6ce-5a366b2f7369"
      },
      "execution_count": null,
      "outputs": [
        {
          "output_type": "execute_result",
          "data": {
            "text/plain": [
              "                                                    text  action  comedy  \\\n",
              "0      eady dead, maybe even wishing he was. INT. 2ND...       0       0   \n",
              "1      t, summa cum laude and all. And I'm about to l...       0       1   \n",
              "2       up Come, I have a surprise.... She takes him ...       0       0   \n",
              "3      ded by the two detectives. INT. JEFF'S APARTME...       0       0   \n",
              "4      nd dismounts, just as the other children reach...       0       0   \n",
              "...                                                  ...     ...     ...   \n",
              "22574  n in the world to decide what I'm going to do ...       0       0   \n",
              "22575  shards. BOJO LAZ! Laz pushes Deke back through...       0       0   \n",
              "22576  OTTIE You've got a thing about Ernie's, haven'...       0       0   \n",
              "22577  ....with marked skill and dexterity . LANA wry...       1       0   \n",
              "22578  rd walks off down the hallway, leaving his pos...       0       1   \n",
              "\n",
              "       drama  sci-fi  thriller  \n",
              "0          0       0         1  \n",
              "1          0       0         0  \n",
              "2          1       0         0  \n",
              "3          0       0         1  \n",
              "4          1       0         0  \n",
              "...      ...     ...       ...  \n",
              "22574      1       0         0  \n",
              "22575      1       0         0  \n",
              "22576      0       0         1  \n",
              "22577      0       0         0  \n",
              "22578      0       0         0  \n",
              "\n",
              "[21643 rows x 6 columns]"
            ],
            "text/html": [
              "\n",
              "  <div id=\"df-20378258-d2b3-44da-8826-3b7746af7120\">\n",
              "    <div class=\"colab-df-container\">\n",
              "      <div>\n",
              "<style scoped>\n",
              "    .dataframe tbody tr th:only-of-type {\n",
              "        vertical-align: middle;\n",
              "    }\n",
              "\n",
              "    .dataframe tbody tr th {\n",
              "        vertical-align: top;\n",
              "    }\n",
              "\n",
              "    .dataframe thead th {\n",
              "        text-align: right;\n",
              "    }\n",
              "</style>\n",
              "<table border=\"1\" class=\"dataframe\">\n",
              "  <thead>\n",
              "    <tr style=\"text-align: right;\">\n",
              "      <th></th>\n",
              "      <th>text</th>\n",
              "      <th>action</th>\n",
              "      <th>comedy</th>\n",
              "      <th>drama</th>\n",
              "      <th>sci-fi</th>\n",
              "      <th>thriller</th>\n",
              "    </tr>\n",
              "  </thead>\n",
              "  <tbody>\n",
              "    <tr>\n",
              "      <th>0</th>\n",
              "      <td>eady dead, maybe even wishing he was. INT. 2ND...</td>\n",
              "      <td>0</td>\n",
              "      <td>0</td>\n",
              "      <td>0</td>\n",
              "      <td>0</td>\n",
              "      <td>1</td>\n",
              "    </tr>\n",
              "    <tr>\n",
              "      <th>1</th>\n",
              "      <td>t, summa cum laude and all. And I'm about to l...</td>\n",
              "      <td>0</td>\n",
              "      <td>1</td>\n",
              "      <td>0</td>\n",
              "      <td>0</td>\n",
              "      <td>0</td>\n",
              "    </tr>\n",
              "    <tr>\n",
              "      <th>2</th>\n",
              "      <td>up Come, I have a surprise.... She takes him ...</td>\n",
              "      <td>0</td>\n",
              "      <td>0</td>\n",
              "      <td>1</td>\n",
              "      <td>0</td>\n",
              "      <td>0</td>\n",
              "    </tr>\n",
              "    <tr>\n",
              "      <th>3</th>\n",
              "      <td>ded by the two detectives. INT. JEFF'S APARTME...</td>\n",
              "      <td>0</td>\n",
              "      <td>0</td>\n",
              "      <td>0</td>\n",
              "      <td>0</td>\n",
              "      <td>1</td>\n",
              "    </tr>\n",
              "    <tr>\n",
              "      <th>4</th>\n",
              "      <td>nd dismounts, just as the other children reach...</td>\n",
              "      <td>0</td>\n",
              "      <td>0</td>\n",
              "      <td>1</td>\n",
              "      <td>0</td>\n",
              "      <td>0</td>\n",
              "    </tr>\n",
              "    <tr>\n",
              "      <th>...</th>\n",
              "      <td>...</td>\n",
              "      <td>...</td>\n",
              "      <td>...</td>\n",
              "      <td>...</td>\n",
              "      <td>...</td>\n",
              "      <td>...</td>\n",
              "    </tr>\n",
              "    <tr>\n",
              "      <th>22574</th>\n",
              "      <td>n in the world to decide what I'm going to do ...</td>\n",
              "      <td>0</td>\n",
              "      <td>0</td>\n",
              "      <td>1</td>\n",
              "      <td>0</td>\n",
              "      <td>0</td>\n",
              "    </tr>\n",
              "    <tr>\n",
              "      <th>22575</th>\n",
              "      <td>shards. BOJO LAZ! Laz pushes Deke back through...</td>\n",
              "      <td>0</td>\n",
              "      <td>0</td>\n",
              "      <td>1</td>\n",
              "      <td>0</td>\n",
              "      <td>0</td>\n",
              "    </tr>\n",
              "    <tr>\n",
              "      <th>22576</th>\n",
              "      <td>OTTIE You've got a thing about Ernie's, haven'...</td>\n",
              "      <td>0</td>\n",
              "      <td>0</td>\n",
              "      <td>0</td>\n",
              "      <td>0</td>\n",
              "      <td>1</td>\n",
              "    </tr>\n",
              "    <tr>\n",
              "      <th>22577</th>\n",
              "      <td>....with marked skill and dexterity . LANA wry...</td>\n",
              "      <td>1</td>\n",
              "      <td>0</td>\n",
              "      <td>0</td>\n",
              "      <td>0</td>\n",
              "      <td>0</td>\n",
              "    </tr>\n",
              "    <tr>\n",
              "      <th>22578</th>\n",
              "      <td>rd walks off down the hallway, leaving his pos...</td>\n",
              "      <td>0</td>\n",
              "      <td>1</td>\n",
              "      <td>0</td>\n",
              "      <td>0</td>\n",
              "      <td>0</td>\n",
              "    </tr>\n",
              "  </tbody>\n",
              "</table>\n",
              "<p>21643 rows × 6 columns</p>\n",
              "</div>\n",
              "      <button class=\"colab-df-convert\" onclick=\"convertToInteractive('df-20378258-d2b3-44da-8826-3b7746af7120')\"\n",
              "              title=\"Convert this dataframe to an interactive table.\"\n",
              "              style=\"display:none;\">\n",
              "        \n",
              "  <svg xmlns=\"http://www.w3.org/2000/svg\" height=\"24px\"viewBox=\"0 0 24 24\"\n",
              "       width=\"24px\">\n",
              "    <path d=\"M0 0h24v24H0V0z\" fill=\"none\"/>\n",
              "    <path d=\"M18.56 5.44l.94 2.06.94-2.06 2.06-.94-2.06-.94-.94-2.06-.94 2.06-2.06.94zm-11 1L8.5 8.5l.94-2.06 2.06-.94-2.06-.94L8.5 2.5l-.94 2.06-2.06.94zm10 10l.94 2.06.94-2.06 2.06-.94-2.06-.94-.94-2.06-.94 2.06-2.06.94z\"/><path d=\"M17.41 7.96l-1.37-1.37c-.4-.4-.92-.59-1.43-.59-.52 0-1.04.2-1.43.59L10.3 9.45l-7.72 7.72c-.78.78-.78 2.05 0 2.83L4 21.41c.39.39.9.59 1.41.59.51 0 1.02-.2 1.41-.59l7.78-7.78 2.81-2.81c.8-.78.8-2.07 0-2.86zM5.41 20L4 18.59l7.72-7.72 1.47 1.35L5.41 20z\"/>\n",
              "  </svg>\n",
              "      </button>\n",
              "      \n",
              "  <style>\n",
              "    .colab-df-container {\n",
              "      display:flex;\n",
              "      flex-wrap:wrap;\n",
              "      gap: 12px;\n",
              "    }\n",
              "\n",
              "    .colab-df-convert {\n",
              "      background-color: #E8F0FE;\n",
              "      border: none;\n",
              "      border-radius: 50%;\n",
              "      cursor: pointer;\n",
              "      display: none;\n",
              "      fill: #1967D2;\n",
              "      height: 32px;\n",
              "      padding: 0 0 0 0;\n",
              "      width: 32px;\n",
              "    }\n",
              "\n",
              "    .colab-df-convert:hover {\n",
              "      background-color: #E2EBFA;\n",
              "      box-shadow: 0px 1px 2px rgba(60, 64, 67, 0.3), 0px 1px 3px 1px rgba(60, 64, 67, 0.15);\n",
              "      fill: #174EA6;\n",
              "    }\n",
              "\n",
              "    [theme=dark] .colab-df-convert {\n",
              "      background-color: #3B4455;\n",
              "      fill: #D2E3FC;\n",
              "    }\n",
              "\n",
              "    [theme=dark] .colab-df-convert:hover {\n",
              "      background-color: #434B5C;\n",
              "      box-shadow: 0px 1px 3px 1px rgba(0, 0, 0, 0.15);\n",
              "      filter: drop-shadow(0px 1px 2px rgba(0, 0, 0, 0.3));\n",
              "      fill: #FFFFFF;\n",
              "    }\n",
              "  </style>\n",
              "\n",
              "      <script>\n",
              "        const buttonEl =\n",
              "          document.querySelector('#df-20378258-d2b3-44da-8826-3b7746af7120 button.colab-df-convert');\n",
              "        buttonEl.style.display =\n",
              "          google.colab.kernel.accessAllowed ? 'block' : 'none';\n",
              "\n",
              "        async function convertToInteractive(key) {\n",
              "          const element = document.querySelector('#df-20378258-d2b3-44da-8826-3b7746af7120');\n",
              "          const dataTable =\n",
              "            await google.colab.kernel.invokeFunction('convertToInteractive',\n",
              "                                                     [key], {});\n",
              "          if (!dataTable) return;\n",
              "\n",
              "          const docLinkHtml = 'Like what you see? Visit the ' +\n",
              "            '<a target=\"_blank\" href=https://colab.research.google.com/notebooks/data_table.ipynb>data table notebook</a>'\n",
              "            + ' to learn more about interactive tables.';\n",
              "          element.innerHTML = '';\n",
              "          dataTable['output_type'] = 'display_data';\n",
              "          await google.colab.output.renderOutput(dataTable, element);\n",
              "          const docLink = document.createElement('div');\n",
              "          docLink.innerHTML = docLinkHtml;\n",
              "          element.appendChild(docLink);\n",
              "        }\n",
              "      </script>\n",
              "    </div>\n",
              "  </div>\n",
              "  "
            ]
          },
          "metadata": {},
          "execution_count": 11
        }
      ]
    },
    {
      "cell_type": "markdown",
      "source": [
        "**Data Cleansing**"
      ],
      "metadata": {
        "id": "7WPV30Al6zOn"
      }
    },
    {
      "cell_type": "code",
      "source": [
        "# library\n",
        "import re\n",
        "import string\n",
        "from string import punctuation\n",
        "\n",
        "# helper function to clean texts\n",
        "def processText(text):\n",
        "    # Remove HTML special entities (e.g. &amp;)\n",
        "    text = re.sub(r'\\&\\w*;', '', text)\n",
        "    #Convert @username to AT_USER\n",
        "    text = re.sub('@[^\\s]+','',text)\n",
        "    # Remove tickers\n",
        "    text = re.sub(r'\\$\\w*', '', text)\n",
        "    # To lowercase\n",
        "    text = text.lower()\n",
        "    # Remove hyperlinks\n",
        "    text = re.sub(r'https?:\\/\\/.*\\/\\w*', '', text)\n",
        "    # Remove hashtags\n",
        "    text = re.sub(r'#\\w*', '', text)\n",
        "    # Remove Punctuation and split 's, 't, 've with a space for filter\n",
        "    text = re.sub(r'[' + punctuation.replace('@', '') + ']+', ' ', text)\n",
        "    # Remove words with 2 or fewer letters\n",
        "    text = re.sub(r'\\b\\w{1,2}\\b', '', text)\n",
        "    # Remove whitespace (including new line characters)\n",
        "    text = re.sub(r'\\s\\s+', ' ', text)\n",
        "    # Remove single space remaining at the front of the text.\n",
        "    text = text.lstrip(' ') \n",
        "    # Remove characters beyond Basic Multilingual Plane (BMP or emoji) of Unicode:\n",
        "    text = ''.join(c for c in text if c <= '\\uFFFF')\n",
        "\n",
        "    return text"
      ],
      "metadata": {
        "id": "_1hF-CeHyZPr"
      },
      "execution_count": null,
      "outputs": []
    },
    {
      "cell_type": "code",
      "source": [
        "# clean dataframe's text column\n",
        "df_encode['text'] = df_encode['text'].apply(processText)\n",
        "# preview cleaned text\n",
        "df_encode[['text']]\n",
        "df_clean = df_encode\n",
        "df_clean"
      ],
      "metadata": {
        "colab": {
          "base_uri": "https://localhost:8080/",
          "height": 424
        },
        "id": "c6x6MWwKygA-",
        "outputId": "cac69355-940b-4b02-dce8-e23160fc93af"
      },
      "execution_count": null,
      "outputs": [
        {
          "output_type": "execute_result",
          "data": {
            "text/plain": [
              "                                                    text  action  comedy  \\\n",
              "0      eady dead maybe even wishing was int 2nd floor...       0       0   \n",
              "1      summa cum laude and all and about launch brand...       0       1   \n",
              "2      come have surprise she takes him the hand and ...       0       0   \n",
              "3      ded the two detectives int jeff apartment nigh...       0       0   \n",
              "4      dismounts just the other children reach him th...       0       0   \n",
              "...                                                  ...     ...     ...   \n",
              "22574  the world decide what going and that and you t...       0       0   \n",
              "22575  shards bojo laz laz pushes deke back through t...       0       0   \n",
              "22576  ottie you got thing about ernie haven you judy...       0       0   \n",
              "22577  with marked skill and dexterity lana wryly you...       1       0   \n",
              "22578  walks off down the hallway leaving his post fr...       0       1   \n",
              "\n",
              "       drama  sci-fi  thriller  \n",
              "0          0       0         1  \n",
              "1          0       0         0  \n",
              "2          1       0         0  \n",
              "3          0       0         1  \n",
              "4          1       0         0  \n",
              "...      ...     ...       ...  \n",
              "22574      1       0         0  \n",
              "22575      1       0         0  \n",
              "22576      0       0         1  \n",
              "22577      0       0         0  \n",
              "22578      0       0         0  \n",
              "\n",
              "[21643 rows x 6 columns]"
            ],
            "text/html": [
              "\n",
              "  <div id=\"df-08e23540-4ff6-4831-ac12-86186711cabf\">\n",
              "    <div class=\"colab-df-container\">\n",
              "      <div>\n",
              "<style scoped>\n",
              "    .dataframe tbody tr th:only-of-type {\n",
              "        vertical-align: middle;\n",
              "    }\n",
              "\n",
              "    .dataframe tbody tr th {\n",
              "        vertical-align: top;\n",
              "    }\n",
              "\n",
              "    .dataframe thead th {\n",
              "        text-align: right;\n",
              "    }\n",
              "</style>\n",
              "<table border=\"1\" class=\"dataframe\">\n",
              "  <thead>\n",
              "    <tr style=\"text-align: right;\">\n",
              "      <th></th>\n",
              "      <th>text</th>\n",
              "      <th>action</th>\n",
              "      <th>comedy</th>\n",
              "      <th>drama</th>\n",
              "      <th>sci-fi</th>\n",
              "      <th>thriller</th>\n",
              "    </tr>\n",
              "  </thead>\n",
              "  <tbody>\n",
              "    <tr>\n",
              "      <th>0</th>\n",
              "      <td>eady dead maybe even wishing was int 2nd floor...</td>\n",
              "      <td>0</td>\n",
              "      <td>0</td>\n",
              "      <td>0</td>\n",
              "      <td>0</td>\n",
              "      <td>1</td>\n",
              "    </tr>\n",
              "    <tr>\n",
              "      <th>1</th>\n",
              "      <td>summa cum laude and all and about launch brand...</td>\n",
              "      <td>0</td>\n",
              "      <td>1</td>\n",
              "      <td>0</td>\n",
              "      <td>0</td>\n",
              "      <td>0</td>\n",
              "    </tr>\n",
              "    <tr>\n",
              "      <th>2</th>\n",
              "      <td>come have surprise she takes him the hand and ...</td>\n",
              "      <td>0</td>\n",
              "      <td>0</td>\n",
              "      <td>1</td>\n",
              "      <td>0</td>\n",
              "      <td>0</td>\n",
              "    </tr>\n",
              "    <tr>\n",
              "      <th>3</th>\n",
              "      <td>ded the two detectives int jeff apartment nigh...</td>\n",
              "      <td>0</td>\n",
              "      <td>0</td>\n",
              "      <td>0</td>\n",
              "      <td>0</td>\n",
              "      <td>1</td>\n",
              "    </tr>\n",
              "    <tr>\n",
              "      <th>4</th>\n",
              "      <td>dismounts just the other children reach him th...</td>\n",
              "      <td>0</td>\n",
              "      <td>0</td>\n",
              "      <td>1</td>\n",
              "      <td>0</td>\n",
              "      <td>0</td>\n",
              "    </tr>\n",
              "    <tr>\n",
              "      <th>...</th>\n",
              "      <td>...</td>\n",
              "      <td>...</td>\n",
              "      <td>...</td>\n",
              "      <td>...</td>\n",
              "      <td>...</td>\n",
              "      <td>...</td>\n",
              "    </tr>\n",
              "    <tr>\n",
              "      <th>22574</th>\n",
              "      <td>the world decide what going and that and you t...</td>\n",
              "      <td>0</td>\n",
              "      <td>0</td>\n",
              "      <td>1</td>\n",
              "      <td>0</td>\n",
              "      <td>0</td>\n",
              "    </tr>\n",
              "    <tr>\n",
              "      <th>22575</th>\n",
              "      <td>shards bojo laz laz pushes deke back through t...</td>\n",
              "      <td>0</td>\n",
              "      <td>0</td>\n",
              "      <td>1</td>\n",
              "      <td>0</td>\n",
              "      <td>0</td>\n",
              "    </tr>\n",
              "    <tr>\n",
              "      <th>22576</th>\n",
              "      <td>ottie you got thing about ernie haven you judy...</td>\n",
              "      <td>0</td>\n",
              "      <td>0</td>\n",
              "      <td>0</td>\n",
              "      <td>0</td>\n",
              "      <td>1</td>\n",
              "    </tr>\n",
              "    <tr>\n",
              "      <th>22577</th>\n",
              "      <td>with marked skill and dexterity lana wryly you...</td>\n",
              "      <td>1</td>\n",
              "      <td>0</td>\n",
              "      <td>0</td>\n",
              "      <td>0</td>\n",
              "      <td>0</td>\n",
              "    </tr>\n",
              "    <tr>\n",
              "      <th>22578</th>\n",
              "      <td>walks off down the hallway leaving his post fr...</td>\n",
              "      <td>0</td>\n",
              "      <td>1</td>\n",
              "      <td>0</td>\n",
              "      <td>0</td>\n",
              "      <td>0</td>\n",
              "    </tr>\n",
              "  </tbody>\n",
              "</table>\n",
              "<p>21643 rows × 6 columns</p>\n",
              "</div>\n",
              "      <button class=\"colab-df-convert\" onclick=\"convertToInteractive('df-08e23540-4ff6-4831-ac12-86186711cabf')\"\n",
              "              title=\"Convert this dataframe to an interactive table.\"\n",
              "              style=\"display:none;\">\n",
              "        \n",
              "  <svg xmlns=\"http://www.w3.org/2000/svg\" height=\"24px\"viewBox=\"0 0 24 24\"\n",
              "       width=\"24px\">\n",
              "    <path d=\"M0 0h24v24H0V0z\" fill=\"none\"/>\n",
              "    <path d=\"M18.56 5.44l.94 2.06.94-2.06 2.06-.94-2.06-.94-.94-2.06-.94 2.06-2.06.94zm-11 1L8.5 8.5l.94-2.06 2.06-.94-2.06-.94L8.5 2.5l-.94 2.06-2.06.94zm10 10l.94 2.06.94-2.06 2.06-.94-2.06-.94-.94-2.06-.94 2.06-2.06.94z\"/><path d=\"M17.41 7.96l-1.37-1.37c-.4-.4-.92-.59-1.43-.59-.52 0-1.04.2-1.43.59L10.3 9.45l-7.72 7.72c-.78.78-.78 2.05 0 2.83L4 21.41c.39.39.9.59 1.41.59.51 0 1.02-.2 1.41-.59l7.78-7.78 2.81-2.81c.8-.78.8-2.07 0-2.86zM5.41 20L4 18.59l7.72-7.72 1.47 1.35L5.41 20z\"/>\n",
              "  </svg>\n",
              "      </button>\n",
              "      \n",
              "  <style>\n",
              "    .colab-df-container {\n",
              "      display:flex;\n",
              "      flex-wrap:wrap;\n",
              "      gap: 12px;\n",
              "    }\n",
              "\n",
              "    .colab-df-convert {\n",
              "      background-color: #E8F0FE;\n",
              "      border: none;\n",
              "      border-radius: 50%;\n",
              "      cursor: pointer;\n",
              "      display: none;\n",
              "      fill: #1967D2;\n",
              "      height: 32px;\n",
              "      padding: 0 0 0 0;\n",
              "      width: 32px;\n",
              "    }\n",
              "\n",
              "    .colab-df-convert:hover {\n",
              "      background-color: #E2EBFA;\n",
              "      box-shadow: 0px 1px 2px rgba(60, 64, 67, 0.3), 0px 1px 3px 1px rgba(60, 64, 67, 0.15);\n",
              "      fill: #174EA6;\n",
              "    }\n",
              "\n",
              "    [theme=dark] .colab-df-convert {\n",
              "      background-color: #3B4455;\n",
              "      fill: #D2E3FC;\n",
              "    }\n",
              "\n",
              "    [theme=dark] .colab-df-convert:hover {\n",
              "      background-color: #434B5C;\n",
              "      box-shadow: 0px 1px 3px 1px rgba(0, 0, 0, 0.15);\n",
              "      filter: drop-shadow(0px 1px 2px rgba(0, 0, 0, 0.3));\n",
              "      fill: #FFFFFF;\n",
              "    }\n",
              "  </style>\n",
              "\n",
              "      <script>\n",
              "        const buttonEl =\n",
              "          document.querySelector('#df-08e23540-4ff6-4831-ac12-86186711cabf button.colab-df-convert');\n",
              "        buttonEl.style.display =\n",
              "          google.colab.kernel.accessAllowed ? 'block' : 'none';\n",
              "\n",
              "        async function convertToInteractive(key) {\n",
              "          const element = document.querySelector('#df-08e23540-4ff6-4831-ac12-86186711cabf');\n",
              "          const dataTable =\n",
              "            await google.colab.kernel.invokeFunction('convertToInteractive',\n",
              "                                                     [key], {});\n",
              "          if (!dataTable) return;\n",
              "\n",
              "          const docLinkHtml = 'Like what you see? Visit the ' +\n",
              "            '<a target=\"_blank\" href=https://colab.research.google.com/notebooks/data_table.ipynb>data table notebook</a>'\n",
              "            + ' to learn more about interactive tables.';\n",
              "          element.innerHTML = '';\n",
              "          dataTable['output_type'] = 'display_data';\n",
              "          await google.colab.output.renderOutput(dataTable, element);\n",
              "          const docLink = document.createElement('div');\n",
              "          docLink.innerHTML = docLinkHtml;\n",
              "          element.appendChild(docLink);\n",
              "        }\n",
              "      </script>\n",
              "    </div>\n",
              "  </div>\n",
              "  "
            ]
          },
          "metadata": {},
          "execution_count": 13
        }
      ]
    },
    {
      "cell_type": "markdown",
      "source": [
        "**Stemming**"
      ],
      "metadata": {
        "id": "Q1XVtefMKkPM"
      }
    },
    {
      "cell_type": "code",
      "source": [
        "# create stemmer\n",
        "import nltk\n",
        "from nltk.stem import PorterStemmer\n",
        "from nltk.tokenize import word_tokenize\n",
        "\n",
        "ps = PorterStemmer()"
      ],
      "metadata": {
        "id": "MVc5XqL2KeIR"
      },
      "execution_count": null,
      "outputs": []
    },
    {
      "cell_type": "code",
      "source": [
        "# helper function to clean tweets\n",
        "def stemmText(text):\n",
        "  text = ps.stem(text)\n",
        "  return text"
      ],
      "metadata": {
        "id": "NwiIh3W2Kqzg"
      },
      "execution_count": null,
      "outputs": []
    },
    {
      "cell_type": "code",
      "source": [
        "# clean dataframe's text column\n",
        "df_clean['text'] = df_clean['text'].apply(stemmText)\n",
        "# preview data\n",
        "df_clean[['text']]\n",
        "df_final = df_clean\n",
        "df_final"
      ],
      "metadata": {
        "colab": {
          "base_uri": "https://localhost:8080/",
          "height": 424
        },
        "id": "ND5lr97MLCK9",
        "outputId": "2add323d-aefc-4764-a89b-5fdd3e328b4b"
      },
      "execution_count": null,
      "outputs": [
        {
          "output_type": "execute_result",
          "data": {
            "text/plain": [
              "                                                    text  action  comedy  \\\n",
              "0      eady dead maybe even wishing was int 2nd floor...       0       0   \n",
              "1      summa cum laude and all and about launch brand...       0       1   \n",
              "2      come have surprise she takes him the hand and ...       0       0   \n",
              "3      ded the two detectives int jeff apartment nigh...       0       0   \n",
              "4      dismounts just the other children reach him th...       0       0   \n",
              "...                                                  ...     ...     ...   \n",
              "22574  the world decide what going and that and you t...       0       0   \n",
              "22575  shards bojo laz laz pushes deke back through t...       0       0   \n",
              "22576  ottie you got thing about ernie haven you judy...       0       0   \n",
              "22577  with marked skill and dexterity lana wryly you...       1       0   \n",
              "22578  walks off down the hallway leaving his post fr...       0       1   \n",
              "\n",
              "       drama  sci-fi  thriller  \n",
              "0          0       0         1  \n",
              "1          0       0         0  \n",
              "2          1       0         0  \n",
              "3          0       0         1  \n",
              "4          1       0         0  \n",
              "...      ...     ...       ...  \n",
              "22574      1       0         0  \n",
              "22575      1       0         0  \n",
              "22576      0       0         1  \n",
              "22577      0       0         0  \n",
              "22578      0       0         0  \n",
              "\n",
              "[21643 rows x 6 columns]"
            ],
            "text/html": [
              "\n",
              "  <div id=\"df-995eb3dc-3982-4185-8f49-9fb3c0305814\">\n",
              "    <div class=\"colab-df-container\">\n",
              "      <div>\n",
              "<style scoped>\n",
              "    .dataframe tbody tr th:only-of-type {\n",
              "        vertical-align: middle;\n",
              "    }\n",
              "\n",
              "    .dataframe tbody tr th {\n",
              "        vertical-align: top;\n",
              "    }\n",
              "\n",
              "    .dataframe thead th {\n",
              "        text-align: right;\n",
              "    }\n",
              "</style>\n",
              "<table border=\"1\" class=\"dataframe\">\n",
              "  <thead>\n",
              "    <tr style=\"text-align: right;\">\n",
              "      <th></th>\n",
              "      <th>text</th>\n",
              "      <th>action</th>\n",
              "      <th>comedy</th>\n",
              "      <th>drama</th>\n",
              "      <th>sci-fi</th>\n",
              "      <th>thriller</th>\n",
              "    </tr>\n",
              "  </thead>\n",
              "  <tbody>\n",
              "    <tr>\n",
              "      <th>0</th>\n",
              "      <td>eady dead maybe even wishing was int 2nd floor...</td>\n",
              "      <td>0</td>\n",
              "      <td>0</td>\n",
              "      <td>0</td>\n",
              "      <td>0</td>\n",
              "      <td>1</td>\n",
              "    </tr>\n",
              "    <tr>\n",
              "      <th>1</th>\n",
              "      <td>summa cum laude and all and about launch brand...</td>\n",
              "      <td>0</td>\n",
              "      <td>1</td>\n",
              "      <td>0</td>\n",
              "      <td>0</td>\n",
              "      <td>0</td>\n",
              "    </tr>\n",
              "    <tr>\n",
              "      <th>2</th>\n",
              "      <td>come have surprise she takes him the hand and ...</td>\n",
              "      <td>0</td>\n",
              "      <td>0</td>\n",
              "      <td>1</td>\n",
              "      <td>0</td>\n",
              "      <td>0</td>\n",
              "    </tr>\n",
              "    <tr>\n",
              "      <th>3</th>\n",
              "      <td>ded the two detectives int jeff apartment nigh...</td>\n",
              "      <td>0</td>\n",
              "      <td>0</td>\n",
              "      <td>0</td>\n",
              "      <td>0</td>\n",
              "      <td>1</td>\n",
              "    </tr>\n",
              "    <tr>\n",
              "      <th>4</th>\n",
              "      <td>dismounts just the other children reach him th...</td>\n",
              "      <td>0</td>\n",
              "      <td>0</td>\n",
              "      <td>1</td>\n",
              "      <td>0</td>\n",
              "      <td>0</td>\n",
              "    </tr>\n",
              "    <tr>\n",
              "      <th>...</th>\n",
              "      <td>...</td>\n",
              "      <td>...</td>\n",
              "      <td>...</td>\n",
              "      <td>...</td>\n",
              "      <td>...</td>\n",
              "      <td>...</td>\n",
              "    </tr>\n",
              "    <tr>\n",
              "      <th>22574</th>\n",
              "      <td>the world decide what going and that and you t...</td>\n",
              "      <td>0</td>\n",
              "      <td>0</td>\n",
              "      <td>1</td>\n",
              "      <td>0</td>\n",
              "      <td>0</td>\n",
              "    </tr>\n",
              "    <tr>\n",
              "      <th>22575</th>\n",
              "      <td>shards bojo laz laz pushes deke back through t...</td>\n",
              "      <td>0</td>\n",
              "      <td>0</td>\n",
              "      <td>1</td>\n",
              "      <td>0</td>\n",
              "      <td>0</td>\n",
              "    </tr>\n",
              "    <tr>\n",
              "      <th>22576</th>\n",
              "      <td>ottie you got thing about ernie haven you judy...</td>\n",
              "      <td>0</td>\n",
              "      <td>0</td>\n",
              "      <td>0</td>\n",
              "      <td>0</td>\n",
              "      <td>1</td>\n",
              "    </tr>\n",
              "    <tr>\n",
              "      <th>22577</th>\n",
              "      <td>with marked skill and dexterity lana wryly you...</td>\n",
              "      <td>1</td>\n",
              "      <td>0</td>\n",
              "      <td>0</td>\n",
              "      <td>0</td>\n",
              "      <td>0</td>\n",
              "    </tr>\n",
              "    <tr>\n",
              "      <th>22578</th>\n",
              "      <td>walks off down the hallway leaving his post fr...</td>\n",
              "      <td>0</td>\n",
              "      <td>1</td>\n",
              "      <td>0</td>\n",
              "      <td>0</td>\n",
              "      <td>0</td>\n",
              "    </tr>\n",
              "  </tbody>\n",
              "</table>\n",
              "<p>21643 rows × 6 columns</p>\n",
              "</div>\n",
              "      <button class=\"colab-df-convert\" onclick=\"convertToInteractive('df-995eb3dc-3982-4185-8f49-9fb3c0305814')\"\n",
              "              title=\"Convert this dataframe to an interactive table.\"\n",
              "              style=\"display:none;\">\n",
              "        \n",
              "  <svg xmlns=\"http://www.w3.org/2000/svg\" height=\"24px\"viewBox=\"0 0 24 24\"\n",
              "       width=\"24px\">\n",
              "    <path d=\"M0 0h24v24H0V0z\" fill=\"none\"/>\n",
              "    <path d=\"M18.56 5.44l.94 2.06.94-2.06 2.06-.94-2.06-.94-.94-2.06-.94 2.06-2.06.94zm-11 1L8.5 8.5l.94-2.06 2.06-.94-2.06-.94L8.5 2.5l-.94 2.06-2.06.94zm10 10l.94 2.06.94-2.06 2.06-.94-2.06-.94-.94-2.06-.94 2.06-2.06.94z\"/><path d=\"M17.41 7.96l-1.37-1.37c-.4-.4-.92-.59-1.43-.59-.52 0-1.04.2-1.43.59L10.3 9.45l-7.72 7.72c-.78.78-.78 2.05 0 2.83L4 21.41c.39.39.9.59 1.41.59.51 0 1.02-.2 1.41-.59l7.78-7.78 2.81-2.81c.8-.78.8-2.07 0-2.86zM5.41 20L4 18.59l7.72-7.72 1.47 1.35L5.41 20z\"/>\n",
              "  </svg>\n",
              "      </button>\n",
              "      \n",
              "  <style>\n",
              "    .colab-df-container {\n",
              "      display:flex;\n",
              "      flex-wrap:wrap;\n",
              "      gap: 12px;\n",
              "    }\n",
              "\n",
              "    .colab-df-convert {\n",
              "      background-color: #E8F0FE;\n",
              "      border: none;\n",
              "      border-radius: 50%;\n",
              "      cursor: pointer;\n",
              "      display: none;\n",
              "      fill: #1967D2;\n",
              "      height: 32px;\n",
              "      padding: 0 0 0 0;\n",
              "      width: 32px;\n",
              "    }\n",
              "\n",
              "    .colab-df-convert:hover {\n",
              "      background-color: #E2EBFA;\n",
              "      box-shadow: 0px 1px 2px rgba(60, 64, 67, 0.3), 0px 1px 3px 1px rgba(60, 64, 67, 0.15);\n",
              "      fill: #174EA6;\n",
              "    }\n",
              "\n",
              "    [theme=dark] .colab-df-convert {\n",
              "      background-color: #3B4455;\n",
              "      fill: #D2E3FC;\n",
              "    }\n",
              "\n",
              "    [theme=dark] .colab-df-convert:hover {\n",
              "      background-color: #434B5C;\n",
              "      box-shadow: 0px 1px 3px 1px rgba(0, 0, 0, 0.15);\n",
              "      filter: drop-shadow(0px 1px 2px rgba(0, 0, 0, 0.3));\n",
              "      fill: #FFFFFF;\n",
              "    }\n",
              "  </style>\n",
              "\n",
              "      <script>\n",
              "        const buttonEl =\n",
              "          document.querySelector('#df-995eb3dc-3982-4185-8f49-9fb3c0305814 button.colab-df-convert');\n",
              "        buttonEl.style.display =\n",
              "          google.colab.kernel.accessAllowed ? 'block' : 'none';\n",
              "\n",
              "        async function convertToInteractive(key) {\n",
              "          const element = document.querySelector('#df-995eb3dc-3982-4185-8f49-9fb3c0305814');\n",
              "          const dataTable =\n",
              "            await google.colab.kernel.invokeFunction('convertToInteractive',\n",
              "                                                     [key], {});\n",
              "          if (!dataTable) return;\n",
              "\n",
              "          const docLinkHtml = 'Like what you see? Visit the ' +\n",
              "            '<a target=\"_blank\" href=https://colab.research.google.com/notebooks/data_table.ipynb>data table notebook</a>'\n",
              "            + ' to learn more about interactive tables.';\n",
              "          element.innerHTML = '';\n",
              "          dataTable['output_type'] = 'display_data';\n",
              "          await google.colab.output.renderOutput(dataTable, element);\n",
              "          const docLink = document.createElement('div');\n",
              "          docLink.innerHTML = docLinkHtml;\n",
              "          element.appendChild(docLink);\n",
              "        }\n",
              "      </script>\n",
              "    </div>\n",
              "  </div>\n",
              "  "
            ]
          },
          "metadata": {},
          "execution_count": 16
        }
      ]
    },
    {
      "cell_type": "markdown",
      "source": [
        "**Split Data**"
      ],
      "metadata": {
        "id": "84VwXThVU21C"
      }
    },
    {
      "cell_type": "code",
      "source": [
        "# change value to numpy array\n",
        "reviews = df_encode['text'].values \n",
        "label = df_encode[['action', 'comedy', 'drama', 'sci-fi', 'thriller']].values"
      ],
      "metadata": {
        "id": "98V6SUTsU4de"
      },
      "execution_count": null,
      "outputs": []
    },
    {
      "cell_type": "code",
      "source": [
        "# view text\n",
        "reviews"
      ],
      "metadata": {
        "colab": {
          "base_uri": "https://localhost:8080/"
        },
        "id": "589xfq70VNes",
        "outputId": "a9f44610-08fa-4e2c-e419-6f2c08b51fba"
      },
      "execution_count": null,
      "outputs": [
        {
          "output_type": "execute_result",
          "data": {
            "text/plain": [
              "array(['eady dead maybe even wishing was int 2nd floor hallway three night the orderly leads liza door orderly here white guy his 30s opens the door and they step into room three there white guy his mid 30s looks wild straight jacketed not jerry liza reached the end her rope she just shakes her head int decrepit hospital room night balled fetal not really all there head pressed the cement tries sing himself jerry blue moon blue moon int 2nd floor hallway three night liza just stands there leaning rail the wall the orderly isn sure what going but knows bad orderly you okay liza starts down the hall with the orderly following orderly got some new patients last week you want see them liza waves them off hopeless she stops chicken wired window the end the hall looks out light about break and jerry out there somewhere orderly look gotta get back work ',\n",
              "       'summa cum laude and all and about launch brand new magazine called exposed homage miss julie conroy xenia ohio julie grins julie know where you can find excellent editor chief ted yellow pages julie let your fingers the walking suddenly the music changes people ted grins ted they playing our song extending his hand dare ask for this dance julie taking his hand you better ted and julie begin dancing and kissing the charlie and jimmy feign tears charlie sucker for happy ending hugging jimmy hold and start rise again above the nelson house into the clouds above xenia ted you can guess everybody pretty much lived happily ever after parents didn give the grocery store descend through clouds and quickly find ext london buckingham palace day mom and dad take pictures and smooch front the palace ted but they did manage sneak away for second honeymoon ',\n",
              "       'come have surprise she takes him the hand and leads him out the hallway salvatore looks her and feels pang she seems smaller age withers the body she slightly stooped her hair gathered into knot the back other head you must tired you want rest there time before the funeral salvatore interrupting her mamma only takes hour air you know maria smiling ironically you shouldn tell that now after all these years salvatore gets the message feels guilty thinking about seems incredible that has never come before maria opens door steps aside let her son whispers put all your things here salvatore lakes few steps flabbergasted the sight his old room perfectly reconstructed and preserved looks like museum the museum the past despite the bed the clothes the cupboard the books the shelves perfectly clear that one has ever lived and ',\n",
              "       ...,\n",
              "       'ottie you got thing about ernie haven you judy well after all our place she comes out the bathroom happy and contented she wears the black cocktail dress her blonde hair done the madeleine way she stops pose and show off the dress and smiles across him lovingly judy hello love like regards her admiringly with small contented grin scottie mmmm judy that the best you can she turns the mirror over the dresser scottie come here judy you muss scottie that what had mind judy too late got face she has opened the candy box rummages around the jewelry comes with some earrings holds one her ear see what looks like decides against finds some other earrings small and neat and puts them during this judy suddenly hungry would you rather somewhere else scottie ernie fine judy going have one those big beautiful steaks and let see ',\n",
              "       'with marked skill and dexterity lana wryly you surprised how many offers didn get even brad wouldn stick around for this she tries untack long crepe paper streamer really isn easy clark thinking she means the task hand the streamers they problem you just pull them and does streamer near his ladder cascades the floor great colorful heap favoring lana lana not the streamers everything not that complaining just that don know why but feel like can talk you clark some distance away what lana louder feel like can talk you favoring clark who looks pleased clark well always wished you would back when you were hesitates lana she reaches and takes down big captioned photo teenaged lana and young man donald dressed king and queen the senior prom donald grinning proudly the camera while lana gazes adoringly him lana finishing clark sentence queen ',\n",
              "       'walks off down the hallway leaving his post from the other end the hallway see beavis cornholio enter still babbling int white house oval office day beavis wanders and finds one around shouts frustration beavis cornholio the great cornholio heh heh you will cooperate with bunghole picks the red phone and presses the button again and again int strategic air command day the war room lieutenant picks the red phone title comes strategic air command lieutenant yes president beavis cornholio phone meester president have bunghole cornholio lieutenant president can make out what you saying beavis cornholio phone bungholio presidente need teepee general comes lieutenant general sir the president sounds strange something going don think drill general washington may under attack defcon angle lieutenant hand moving push button alarms soun'],\n",
              "      dtype=object)"
            ]
          },
          "metadata": {},
          "execution_count": 18
        }
      ]
    },
    {
      "cell_type": "code",
      "source": [
        "# view labels\n",
        "label"
      ],
      "metadata": {
        "colab": {
          "base_uri": "https://localhost:8080/"
        },
        "id": "syMiCd0nVca0",
        "outputId": "b2e07a88-81de-4f3e-c160-41cc34ddfeb6"
      },
      "execution_count": null,
      "outputs": [
        {
          "output_type": "execute_result",
          "data": {
            "text/plain": [
              "array([[0, 0, 0, 0, 1],\n",
              "       [0, 1, 0, 0, 0],\n",
              "       [0, 0, 1, 0, 0],\n",
              "       ...,\n",
              "       [0, 0, 0, 0, 1],\n",
              "       [1, 0, 0, 0, 0],\n",
              "       [0, 1, 0, 0, 0]], dtype=uint8)"
            ]
          },
          "metadata": {},
          "execution_count": 19
        }
      ]
    },
    {
      "cell_type": "code",
      "source": [
        "# split train test data\n",
        "from sklearn.model_selection import train_test_split\n",
        "\n",
        "text_train, text_test, label_train, label_test = train_test_split(reviews, label, test_size=0.2, random_state=42)"
      ],
      "metadata": {
        "id": "RxYdFgtqVoX7"
      },
      "execution_count": null,
      "outputs": []
    },
    {
      "cell_type": "markdown",
      "source": [
        "**Tokenization & Sequencing**"
      ],
      "metadata": {
        "id": "tN7n7qdSWSuH"
      }
    },
    {
      "cell_type": "code",
      "source": [
        "import tensorflow as tf\n",
        "from tensorflow.keras.preprocessing.text import Tokenizer\n",
        "from tensorflow.keras.preprocessing.sequence import pad_sequences\n",
        "\n",
        "#tokenizer\n",
        "tokenizer = Tokenizer(num_words=50000, oov_token='-')\n",
        "tokenizer.fit_on_texts(text_train)\n",
        "tokenizer.fit_on_texts(text_test)\n",
        "\n",
        "#sequences\n",
        "sequence_train = tokenizer.texts_to_sequences(text_train)\n",
        "sequence_test = tokenizer.texts_to_sequences(text_test)\n",
        "\n",
        "#padding\n",
        "padded_train = pad_sequences(sequence_train)\n",
        "padded_test = pad_sequences(sequence_test)"
      ],
      "metadata": {
        "id": "ZwmiBVcRWSFN"
      },
      "execution_count": null,
      "outputs": []
    },
    {
      "cell_type": "markdown",
      "source": [
        "**Building Model**"
      ],
      "metadata": {
        "id": "DM52_1C_-8gD"
      }
    },
    {
      "cell_type": "code",
      "source": [
        "# function callbacks\n",
        "class myCallback(tf.keras.callbacks.Callback):\n",
        "  def on_epoch_end(self, epoch, logs={}):\n",
        "    if(logs.get('accuracy') > 0.90 and logs.get('val_accuracy')>0.90):\n",
        "      print(\"\\nAkurasi sudah mencapai 90%, Training Berhenti!\")\n",
        "      self.model.stop_training = True\n",
        "\n",
        "callbacks = myCallback()"
      ],
      "metadata": {
        "id": "xGPkg5cPPKbT"
      },
      "execution_count": null,
      "outputs": []
    },
    {
      "cell_type": "code",
      "source": [
        "# sequential\n",
        "model = tf.keras.Sequential([\n",
        "    tf.keras.layers.Embedding(input_dim=50000, output_dim=64),\n",
        "    tf.keras.layers.LSTM(128),\n",
        "    tf.keras.layers.Dropout(0.2),\n",
        "    tf.keras.layers.Dense(128, activation='relu'),\n",
        "    tf.keras.layers.Dropout(0.5),\n",
        "    tf.keras.layers.Dense(5, activation='softmax')\n",
        "])\n",
        "\n",
        "model.summary()"
      ],
      "metadata": {
        "colab": {
          "base_uri": "https://localhost:8080/"
        },
        "id": "eV6kj_TZX13j",
        "outputId": "b33f33cb-1b55-4a42-b25c-840977c326c2"
      },
      "execution_count": null,
      "outputs": [
        {
          "output_type": "stream",
          "name": "stdout",
          "text": [
            "Model: \"sequential\"\n",
            "_________________________________________________________________\n",
            " Layer (type)                Output Shape              Param #   \n",
            "=================================================================\n",
            " embedding (Embedding)       (None, None, 64)          3200000   \n",
            "                                                                 \n",
            " lstm (LSTM)                 (None, 128)               98816     \n",
            "                                                                 \n",
            " dropout (Dropout)           (None, 128)               0         \n",
            "                                                                 \n",
            " dense (Dense)               (None, 128)               16512     \n",
            "                                                                 \n",
            " dropout_1 (Dropout)         (None, 128)               0         \n",
            "                                                                 \n",
            " dense_1 (Dense)             (None, 5)                 645       \n",
            "                                                                 \n",
            "=================================================================\n",
            "Total params: 3,315,973\n",
            "Trainable params: 3,315,973\n",
            "Non-trainable params: 0\n",
            "_________________________________________________________________\n"
          ]
        }
      ]
    },
    {
      "cell_type": "code",
      "source": [
        "# compile\n",
        "model.compile(loss='categorical_crossentropy', \n",
        "              optimizer='Adam',\n",
        "              metrics=['accuracy'],\n",
        "              sample_weight_mode='temporal')"
      ],
      "metadata": {
        "id": "oo7FiSi0X_uN"
      },
      "execution_count": null,
      "outputs": []
    },
    {
      "cell_type": "code",
      "source": [
        "# modelling\n",
        "history = model.fit(padded_train, label_train,\n",
        "                    batch_size=50,\n",
        "                    epochs=50,\n",
        "                    validation_data=(padded_test, label_test),\n",
        "                    verbose=2,\n",
        "                    callbacks=[callbacks])"
      ],
      "metadata": {
        "colab": {
          "base_uri": "https://localhost:8080/"
        },
        "id": "5v52zir6YK6t",
        "outputId": "79369e1b-f514-47f3-ba90-c6a674acb2ac"
      },
      "execution_count": null,
      "outputs": [
        {
          "output_type": "stream",
          "name": "stdout",
          "text": [
            "Epoch 1/50\n",
            "347/347 - 8s - loss: 1.1687 - accuracy: 0.4626 - val_loss: 0.8859 - val_accuracy: 0.5974 - 8s/epoch - 23ms/step\n",
            "Epoch 2/50\n",
            "347/347 - 5s - loss: 0.6239 - accuracy: 0.7476 - val_loss: 0.6411 - val_accuracy: 0.7253 - 5s/epoch - 13ms/step\n",
            "Epoch 3/50\n",
            "347/347 - 5s - loss: 0.3607 - accuracy: 0.8530 - val_loss: 0.7043 - val_accuracy: 0.7711 - 5s/epoch - 13ms/step\n",
            "Epoch 4/50\n",
            "347/347 - 4s - loss: 0.1906 - accuracy: 0.9346 - val_loss: 0.7160 - val_accuracy: 0.7833 - 4s/epoch - 13ms/step\n",
            "Epoch 5/50\n",
            "347/347 - 5s - loss: 0.1021 - accuracy: 0.9675 - val_loss: 0.7386 - val_accuracy: 0.8337 - 5s/epoch - 13ms/step\n",
            "Epoch 6/50\n",
            "347/347 - 4s - loss: 0.0710 - accuracy: 0.9790 - val_loss: 0.6833 - val_accuracy: 0.8755 - 4s/epoch - 13ms/step\n",
            "Epoch 7/50\n",
            "347/347 - 4s - loss: 0.0400 - accuracy: 0.9898 - val_loss: 0.7001 - val_accuracy: 0.8464 - 4s/epoch - 13ms/step\n",
            "Epoch 8/50\n",
            "347/347 - 6s - loss: 0.0366 - accuracy: 0.9904 - val_loss: 0.6124 - val_accuracy: 0.8741 - 6s/epoch - 18ms/step\n",
            "Epoch 9/50\n",
            "347/347 - 8s - loss: 0.0185 - accuracy: 0.9956 - val_loss: 0.6782 - val_accuracy: 0.8787 - 8s/epoch - 24ms/step\n",
            "Epoch 10/50\n",
            "347/347 - 6s - loss: 0.0281 - accuracy: 0.9927 - val_loss: 0.6490 - val_accuracy: 0.8676 - 6s/epoch - 18ms/step\n",
            "Epoch 11/50\n",
            "347/347 - 4s - loss: 0.0101 - accuracy: 0.9980 - val_loss: 0.6553 - val_accuracy: 0.8769 - 4s/epoch - 13ms/step\n",
            "Epoch 12/50\n",
            "347/347 - 4s - loss: 0.0103 - accuracy: 0.9983 - val_loss: 0.8582 - val_accuracy: 0.8769 - 4s/epoch - 13ms/step\n",
            "Epoch 13/50\n",
            "347/347 - 5s - loss: 0.0130 - accuracy: 0.9965 - val_loss: 0.9326 - val_accuracy: 0.7796 - 5s/epoch - 13ms/step\n",
            "Epoch 14/50\n",
            "347/347 - 5s - loss: 0.0407 - accuracy: 0.9879 - val_loss: 0.6658 - val_accuracy: 0.8803 - 5s/epoch - 13ms/step\n",
            "Epoch 15/50\n",
            "347/347 - 5s - loss: 0.0127 - accuracy: 0.9967 - val_loss: 0.7413 - val_accuracy: 0.8161 - 5s/epoch - 13ms/step\n",
            "Epoch 16/50\n",
            "347/347 - 5s - loss: 0.0101 - accuracy: 0.9976 - val_loss: 0.7040 - val_accuracy: 0.8639 - 5s/epoch - 13ms/step\n",
            "Epoch 17/50\n",
            "347/347 - 5s - loss: 0.0151 - accuracy: 0.9961 - val_loss: 0.6836 - val_accuracy: 0.8863 - 5s/epoch - 13ms/step\n",
            "Epoch 18/50\n",
            "347/347 - 5s - loss: 0.0227 - accuracy: 0.9936 - val_loss: 0.7385 - val_accuracy: 0.8582 - 5s/epoch - 13ms/step\n",
            "Epoch 19/50\n",
            "347/347 - 5s - loss: 0.0138 - accuracy: 0.9966 - val_loss: 0.7298 - val_accuracy: 0.8630 - 5s/epoch - 14ms/step\n",
            "Epoch 20/50\n",
            "347/347 - 5s - loss: 0.0129 - accuracy: 0.9965 - val_loss: 0.8266 - val_accuracy: 0.8388 - 5s/epoch - 13ms/step\n",
            "Epoch 21/50\n",
            "347/347 - 5s - loss: 0.0175 - accuracy: 0.9957 - val_loss: 0.7109 - val_accuracy: 0.8593 - 5s/epoch - 15ms/step\n",
            "Epoch 22/50\n",
            "347/347 - 5s - loss: 0.0100 - accuracy: 0.9977 - val_loss: 0.8443 - val_accuracy: 0.8660 - 5s/epoch - 14ms/step\n",
            "Epoch 23/50\n",
            "347/347 - 5s - loss: 0.0137 - accuracy: 0.9969 - val_loss: 0.7606 - val_accuracy: 0.8649 - 5s/epoch - 15ms/step\n",
            "Epoch 24/50\n",
            "347/347 - 5s - loss: 0.0110 - accuracy: 0.9975 - val_loss: 1.0522 - val_accuracy: 0.8415 - 5s/epoch - 14ms/step\n",
            "Epoch 25/50\n",
            "347/347 - 5s - loss: 0.0442 - accuracy: 0.9883 - val_loss: 0.7081 - val_accuracy: 0.8628 - 5s/epoch - 13ms/step\n",
            "Epoch 26/50\n",
            "347/347 - 5s - loss: 0.0057 - accuracy: 0.9985 - val_loss: 0.8192 - val_accuracy: 0.8591 - 5s/epoch - 13ms/step\n",
            "Epoch 27/50\n",
            "347/347 - 5s - loss: 0.0063 - accuracy: 0.9982 - val_loss: 0.7992 - val_accuracy: 0.8432 - 5s/epoch - 13ms/step\n",
            "Epoch 28/50\n",
            "347/347 - 5s - loss: 0.0077 - accuracy: 0.9979 - val_loss: 0.8281 - val_accuracy: 0.8653 - 5s/epoch - 13ms/step\n",
            "Epoch 29/50\n",
            "347/347 - 5s - loss: 0.0023 - accuracy: 0.9997 - val_loss: 0.8442 - val_accuracy: 0.8746 - 5s/epoch - 13ms/step\n",
            "Epoch 30/50\n",
            "347/347 - 5s - loss: 1.7850e-04 - accuracy: 1.0000 - val_loss: 0.8748 - val_accuracy: 0.8764 - 5s/epoch - 13ms/step\n",
            "Epoch 31/50\n",
            "347/347 - 5s - loss: 0.0048 - accuracy: 0.9986 - val_loss: 0.8429 - val_accuracy: 0.8494 - 5s/epoch - 13ms/step\n",
            "Epoch 32/50\n",
            "347/347 - 5s - loss: 0.0037 - accuracy: 0.9990 - val_loss: 0.9147 - val_accuracy: 0.8577 - 5s/epoch - 13ms/step\n",
            "Epoch 33/50\n",
            "347/347 - 5s - loss: 0.0102 - accuracy: 0.9972 - val_loss: 0.9158 - val_accuracy: 0.8762 - 5s/epoch - 13ms/step\n",
            "Epoch 34/50\n",
            "347/347 - 5s - loss: 0.0081 - accuracy: 0.9983 - val_loss: 0.8522 - val_accuracy: 0.8699 - 5s/epoch - 13ms/step\n",
            "Epoch 35/50\n",
            "347/347 - 5s - loss: 0.0056 - accuracy: 0.9989 - val_loss: 1.0933 - val_accuracy: 0.8526 - 5s/epoch - 13ms/step\n",
            "Epoch 36/50\n",
            "347/347 - 5s - loss: 0.0017 - accuracy: 0.9998 - val_loss: 0.8647 - val_accuracy: 0.8820 - 5s/epoch - 13ms/step\n",
            "Epoch 37/50\n",
            "347/347 - 5s - loss: 1.9058e-04 - accuracy: 1.0000 - val_loss: 0.8852 - val_accuracy: 0.8780 - 5s/epoch - 13ms/step\n",
            "Epoch 38/50\n",
            "347/347 - 5s - loss: 1.3464e-04 - accuracy: 1.0000 - val_loss: 0.9124 - val_accuracy: 0.8810 - 5s/epoch - 13ms/step\n",
            "Epoch 39/50\n",
            "347/347 - 5s - loss: 4.8156e-05 - accuracy: 1.0000 - val_loss: 0.9329 - val_accuracy: 0.8863 - 5s/epoch - 13ms/step\n",
            "Epoch 40/50\n",
            "347/347 - 5s - loss: 3.6173e-05 - accuracy: 1.0000 - val_loss: 0.9571 - val_accuracy: 0.8889 - 5s/epoch - 14ms/step\n",
            "Epoch 41/50\n",
            "347/347 - 5s - loss: 2.1229e-05 - accuracy: 1.0000 - val_loss: 0.9684 - val_accuracy: 0.8907 - 5s/epoch - 13ms/step\n",
            "Epoch 42/50\n",
            "347/347 - 5s - loss: 1.8824e-05 - accuracy: 1.0000 - val_loss: 0.9808 - val_accuracy: 0.8921 - 5s/epoch - 14ms/step\n",
            "Epoch 43/50\n",
            "347/347 - 6s - loss: 1.1999e-05 - accuracy: 1.0000 - val_loss: 0.9960 - val_accuracy: 0.8937 - 6s/epoch - 16ms/step\n",
            "Epoch 44/50\n",
            "347/347 - 5s - loss: 9.7582e-06 - accuracy: 1.0000 - val_loss: 1.0106 - val_accuracy: 0.8954 - 5s/epoch - 13ms/step\n",
            "Epoch 45/50\n",
            "347/347 - 5s - loss: 7.1709e-06 - accuracy: 1.0000 - val_loss: 1.0249 - val_accuracy: 0.8970 - 5s/epoch - 13ms/step\n",
            "Epoch 46/50\n",
            "347/347 - 5s - loss: 1.1856e-05 - accuracy: 1.0000 - val_loss: 1.0504 - val_accuracy: 0.8951 - 5s/epoch - 13ms/step\n",
            "Epoch 47/50\n",
            "347/347 - 5s - loss: 7.2784e-06 - accuracy: 1.0000 - val_loss: 1.0606 - val_accuracy: 0.8972 - 5s/epoch - 13ms/step\n",
            "Epoch 48/50\n",
            "\n",
            "Akurasi sudah mencapai 90%, Training Berhenti!\n",
            "347/347 - 5s - loss: 4.5640e-06 - accuracy: 1.0000 - val_loss: 1.0738 - val_accuracy: 0.9011 - 5s/epoch - 13ms/step\n"
          ]
        }
      ]
    },
    {
      "cell_type": "markdown",
      "source": [
        "**Evaluation**"
      ],
      "metadata": {
        "id": "BdcWmshh-q_n"
      }
    },
    {
      "cell_type": "code",
      "source": [
        "# model evaluation\n",
        "import matplotlib.pyplot as plt\n",
        "\n",
        "# plot of accuracy\n",
        "plt.plot(history.history['accuracy'])\n",
        "plt.plot(history.history['val_accuracy'])\n",
        "plt.title('Model Accuracy')\n",
        "plt.ylabel('Accuracy')\n",
        "plt.xlabel('Epoch')\n",
        "plt.legend(['accuracy', 'val_accuracy'], loc='lower right')\n",
        "plt.show()"
      ],
      "metadata": {
        "colab": {
          "base_uri": "https://localhost:8080/",
          "height": 295
        },
        "id": "XmxRsFhGrClI",
        "outputId": "d59b1eb0-0bd7-4260-eec3-a9a946536390"
      },
      "execution_count": null,
      "outputs": [
        {
          "output_type": "display_data",
          "data": {
            "text/plain": [
              "<Figure size 432x288 with 1 Axes>"
            ],
            "image/png": "[encoded data removed]"
          },
          "metadata": {
            "needs_background": "light"
          }
        }
      ]
    },
    {
      "cell_type": "code",
      "source": [
        "# plot of loss\n",
        "plt.plot(history.history['loss'])\n",
        "plt.plot(history.history['val_loss'])\n",
        "plt.title('Model Loss')\n",
        "plt.ylabel('Loss')\n",
        "plt.xlabel('Epoch')\n",
        "plt.legend(['loss', 'val_loss'], loc='upper right')\n",
        "plt.show()"
      ],
      "metadata": {
        "colab": {
          "base_uri": "https://localhost:8080/",
          "height": 295
        },
        "id": "gkedb-wDrI2H",
        "outputId": "55381baa-3005-49e9-f359-dfdeae9f293d"
      },
      "execution_count": null,
      "outputs": [
        {
          "output_type": "display_data",
          "data": {
            "text/plain": [
              "<Figure size 432x288 with 1 Axes>"
            ],
            "image/png": "[encoded data removed]"
          },
          "metadata": {
            "needs_background": "light"
          }
        }
      ]
    },
    {
      "cell_type": "markdown",
      "source": [
        "## **Kriteria Penilaian**"
      ],
      "metadata": {
        "id": "qDtJqvQrNkmd"
      }
    },
    {
      "cell_type": "markdown",
      "source": [
        "Berikut kriteria submission yang harus Anda penuhi:\n",
        "\n",
        "- Dataset yang akan dipakai bebas, namun minimal memiliki 1000 sampel. **(done)**\n",
        "- Harus menggunakan LSTM dalam arsitektur model. **(done)**\n",
        "- Harus menggunakan model sequential. **(done)**\n",
        "- Validation set sebesar 20% dari total dataset. **(done)**\n",
        "- Harus menggunakan Embedding. **(done)**\n",
        "- Harus menggunakan fungsi tokenizer. **(done)**\n",
        "- Akurasi dari model minimal 75% pada train set dan validation set. **(done)**"
      ],
      "metadata": {
        "id": "tcwHkqxMMOaX"
      }
    },
    {
      "cell_type": "markdown",
      "source": [
        "Anda dapat menerapkan beberapa saran untuk mendapatkan nilai tinggi, berikut sarannya:\n",
        "\n",
        "- Akurasi dari model di atas 80%. **(done)**\n",
        "\n",
        "- Mengimplementasikan callback. **(done)**\n",
        "\n",
        "- Membuat plot loss dan akurasi pada saat training dan validation. **(done)** <br>\n",
        "\n",
        "\n",
        "Detail penilaian submission:\n",
        "\n",
        "- Bintang 1 : Semua ketentuan terpenuhi, namun terdapat indikasi plagiat yaitu dengan menggunakan proyek orang lain dan hanya mengubah kontennya saja.\n",
        "\n",
        "- Bintang 2 : Semua ketentuan terpenuhi, namun penulisan kode berantakan.\n",
        "\n",
        "- Bintang 3 : Semua ketentuan terpenuhi namun hanya mengikuti seperti apa yang ada pada modul.\n",
        "\n",
        "- Bintang 4 : Semua ketentuan terpenuhi, dataset memiliki minimal 2000 sampel data dan akurasi pada training set dan validation set di atas 85%.\n",
        "\n",
        "- Bintang 5 : Semua ketentuan terpenuhi, dataset memiliki 3 kelas atau lebih dan minimal 2000 sampel data. Serta akurasi pada training set dan validation set di atas 90%. **(done)**"
      ],
      "metadata": {
        "id": "c20BIsMJNjed"
      }
    },
    {
      "cell_type": "markdown",
      "source": [
        "## **Ketentuan Berkas Submission**"
      ],
      "metadata": {
        "id": "HQh4paDUOfgt"
      }
    },
    {
      "cell_type": "markdown",
      "source": [
        "Beberapa poin yang perlu diperhatikan ketika mengirimkan berkas submission:\n",
        "\n",
        "- Menggunakan bahasa pemrograman Python. **(done)**\n",
        "\n",
        "- Mengirimkan pekerjaan Anda dalam bentuk berkas ipynb dan py dalam 1 folder yang telah di zip. **(done)**\n",
        "\n",
        "- File ipynb yang dikirim telah dijalankan terlebih dahulu sehingga output telah ada tanpa reviewer perlu menjalankan ulang notebook. **(done)**"
      ],
      "metadata": {
        "id": "QfooOScPOWS8"
      }
    }
  ]
}